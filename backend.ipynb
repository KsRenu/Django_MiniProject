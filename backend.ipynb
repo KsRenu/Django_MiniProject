{
  "nbformat": 4,
  "nbformat_minor": 0,
  "metadata": {
    "colab": {
      "name": "backend",
      "provenance": [],
      "collapsed_sections": []
    },
    "kernelspec": {
      "name": "python3",
      "display_name": "Python 3"
    },
    "language_info": {
      "name": "python"
    }
  },
  "cells": [
    {
      "cell_type": "code",
      "execution_count": 1,
      "metadata": {
        "id": "IsA9-MmSryKu"
      },
      "outputs": [],
      "source": [
        "import pandas as pd\n",
        "from google.colab import files"
      ]
    },
    {
      "cell_type": "code",
      "source": [
        "file_path='/content/studentDetails (Responses) - Form responses 1.csv'"
      ],
      "metadata": {
        "id": "ZEKDMTyysJ9F"
      },
      "execution_count": 2,
      "outputs": []
    },
    {
      "cell_type": "code",
      "source": [
        "df=pd.read_csv(file_path)\n",
        "df"
      ],
      "metadata": {
        "colab": {
          "base_uri": "https://localhost:8080/",
          "height": 423
        },
        "id": "dBSw6ke_sN83",
        "outputId": "f6409ae3-1fa0-4217-b94c-0c52990934a0"
      },
      "execution_count": 3,
      "outputs": [
        {
          "output_type": "execute_result",
          "data": {
            "text/plain": [
              "              Timestamp   name     rollNo  year department section  \\\n",
              "0   21/04/2022 08:53:18   dthd   20bcs001     2        CSE       A   \n",
              "1   21/04/2022 08:56:30    tgr   20bit002     2         IT       A   \n",
              "2   21/04/2022 08:56:55    dgs   20ece003     2        ECE       A   \n",
              "3   21/04/2022 08:57:12  thryt   20eee004     2        EEE       A   \n",
              "4   21/04/2022 08:57:39  kjyry   20bau005     2       AUTO       A   \n",
              "..                  ...    ...        ...   ...        ...     ...   \n",
              "94  21/04/2022 08:59:23    hjg  20bai0095     4    AI & DS       B   \n",
              "95  21/04/2022 08:59:23    hjg  20bai0096     1    AI & DS       A   \n",
              "96  21/04/2022 08:59:23    hjg  20bai0097     2    AI & DS       A   \n",
              "97  21/04/2022 08:59:23    hjg  20bai0098     3    AI & DS       B   \n",
              "98  21/04/2022 08:59:23    hjg  20bai0099     4    AI & DS       A   \n",
              "\n",
              "                                         subjectCodes  \n",
              "0   19ABCD123-english, 19EFG456-tamil, 19HIJ789-ma...  \n",
              "1          19HIJ789-maths, 19KLM012-pce, 19NOP345-pis  \n",
              "2   19NOP345-pis, 19QRST678-engineering drawing, 1...  \n",
              "3   19QRST678-engineering drawing, 19UVW901-uhv, 1...  \n",
              "4     19ABCD123-english, 19HIJ789-maths, 19NOP345-pis  \n",
              "..                                                ...  \n",
              "94  19EFG456-tamil, 19KLM012-pce, 19NOP345-pis, 19...  \n",
              "95  19EFG456-tamil, 19KLM012-pce, 19NOP345-pis, 19...  \n",
              "96  19EFG456-tamil, 19KLM012-pce, 19NOP345-pis, 19...  \n",
              "97  19EFG456-tamil, 19KLM012-pce, 19NOP345-pis, 19...  \n",
              "98  19EFG456-tamil, 19KLM012-pce, 19NOP345-pis, 19...  \n",
              "\n",
              "[99 rows x 7 columns]"
            ],
            "text/html": [
              "\n",
              "  <div id=\"df-7909e344-6bb9-47c6-9171-4b7d208e2c1d\">\n",
              "    <div class=\"colab-df-container\">\n",
              "      <div>\n",
              "<style scoped>\n",
              "    .dataframe tbody tr th:only-of-type {\n",
              "        vertical-align: middle;\n",
              "    }\n",
              "\n",
              "    .dataframe tbody tr th {\n",
              "        vertical-align: top;\n",
              "    }\n",
              "\n",
              "    .dataframe thead th {\n",
              "        text-align: right;\n",
              "    }\n",
              "</style>\n",
              "<table border=\"1\" class=\"dataframe\">\n",
              "  <thead>\n",
              "    <tr style=\"text-align: right;\">\n",
              "      <th></th>\n",
              "      <th>Timestamp</th>\n",
              "      <th>name</th>\n",
              "      <th>rollNo</th>\n",
              "      <th>year</th>\n",
              "      <th>department</th>\n",
              "      <th>section</th>\n",
              "      <th>subjectCodes</th>\n",
              "    </tr>\n",
              "  </thead>\n",
              "  <tbody>\n",
              "    <tr>\n",
              "      <th>0</th>\n",
              "      <td>21/04/2022 08:53:18</td>\n",
              "      <td>dthd</td>\n",
              "      <td>20bcs001</td>\n",
              "      <td>2</td>\n",
              "      <td>CSE</td>\n",
              "      <td>A</td>\n",
              "      <td>19ABCD123-english, 19EFG456-tamil, 19HIJ789-ma...</td>\n",
              "    </tr>\n",
              "    <tr>\n",
              "      <th>1</th>\n",
              "      <td>21/04/2022 08:56:30</td>\n",
              "      <td>tgr</td>\n",
              "      <td>20bit002</td>\n",
              "      <td>2</td>\n",
              "      <td>IT</td>\n",
              "      <td>A</td>\n",
              "      <td>19HIJ789-maths, 19KLM012-pce, 19NOP345-pis</td>\n",
              "    </tr>\n",
              "    <tr>\n",
              "      <th>2</th>\n",
              "      <td>21/04/2022 08:56:55</td>\n",
              "      <td>dgs</td>\n",
              "      <td>20ece003</td>\n",
              "      <td>2</td>\n",
              "      <td>ECE</td>\n",
              "      <td>A</td>\n",
              "      <td>19NOP345-pis, 19QRST678-engineering drawing, 1...</td>\n",
              "    </tr>\n",
              "    <tr>\n",
              "      <th>3</th>\n",
              "      <td>21/04/2022 08:57:12</td>\n",
              "      <td>thryt</td>\n",
              "      <td>20eee004</td>\n",
              "      <td>2</td>\n",
              "      <td>EEE</td>\n",
              "      <td>A</td>\n",
              "      <td>19QRST678-engineering drawing, 19UVW901-uhv, 1...</td>\n",
              "    </tr>\n",
              "    <tr>\n",
              "      <th>4</th>\n",
              "      <td>21/04/2022 08:57:39</td>\n",
              "      <td>kjyry</td>\n",
              "      <td>20bau005</td>\n",
              "      <td>2</td>\n",
              "      <td>AUTO</td>\n",
              "      <td>A</td>\n",
              "      <td>19ABCD123-english, 19HIJ789-maths, 19NOP345-pis</td>\n",
              "    </tr>\n",
              "    <tr>\n",
              "      <th>...</th>\n",
              "      <td>...</td>\n",
              "      <td>...</td>\n",
              "      <td>...</td>\n",
              "      <td>...</td>\n",
              "      <td>...</td>\n",
              "      <td>...</td>\n",
              "      <td>...</td>\n",
              "    </tr>\n",
              "    <tr>\n",
              "      <th>94</th>\n",
              "      <td>21/04/2022 08:59:23</td>\n",
              "      <td>hjg</td>\n",
              "      <td>20bai0095</td>\n",
              "      <td>4</td>\n",
              "      <td>AI &amp; DS</td>\n",
              "      <td>B</td>\n",
              "      <td>19EFG456-tamil, 19KLM012-pce, 19NOP345-pis, 19...</td>\n",
              "    </tr>\n",
              "    <tr>\n",
              "      <th>95</th>\n",
              "      <td>21/04/2022 08:59:23</td>\n",
              "      <td>hjg</td>\n",
              "      <td>20bai0096</td>\n",
              "      <td>1</td>\n",
              "      <td>AI &amp; DS</td>\n",
              "      <td>A</td>\n",
              "      <td>19EFG456-tamil, 19KLM012-pce, 19NOP345-pis, 19...</td>\n",
              "    </tr>\n",
              "    <tr>\n",
              "      <th>96</th>\n",
              "      <td>21/04/2022 08:59:23</td>\n",
              "      <td>hjg</td>\n",
              "      <td>20bai0097</td>\n",
              "      <td>2</td>\n",
              "      <td>AI &amp; DS</td>\n",
              "      <td>A</td>\n",
              "      <td>19EFG456-tamil, 19KLM012-pce, 19NOP345-pis, 19...</td>\n",
              "    </tr>\n",
              "    <tr>\n",
              "      <th>97</th>\n",
              "      <td>21/04/2022 08:59:23</td>\n",
              "      <td>hjg</td>\n",
              "      <td>20bai0098</td>\n",
              "      <td>3</td>\n",
              "      <td>AI &amp; DS</td>\n",
              "      <td>B</td>\n",
              "      <td>19EFG456-tamil, 19KLM012-pce, 19NOP345-pis, 19...</td>\n",
              "    </tr>\n",
              "    <tr>\n",
              "      <th>98</th>\n",
              "      <td>21/04/2022 08:59:23</td>\n",
              "      <td>hjg</td>\n",
              "      <td>20bai0099</td>\n",
              "      <td>4</td>\n",
              "      <td>AI &amp; DS</td>\n",
              "      <td>A</td>\n",
              "      <td>19EFG456-tamil, 19KLM012-pce, 19NOP345-pis, 19...</td>\n",
              "    </tr>\n",
              "  </tbody>\n",
              "</table>\n",
              "<p>99 rows × 7 columns</p>\n",
              "</div>\n",
              "      <button class=\"colab-df-convert\" onclick=\"convertToInteractive('df-7909e344-6bb9-47c6-9171-4b7d208e2c1d')\"\n",
              "              title=\"Convert this dataframe to an interactive table.\"\n",
              "              style=\"display:none;\">\n",
              "        \n",
              "  <svg xmlns=\"http://www.w3.org/2000/svg\" height=\"24px\"viewBox=\"0 0 24 24\"\n",
              "       width=\"24px\">\n",
              "    <path d=\"M0 0h24v24H0V0z\" fill=\"none\"/>\n",
              "    <path d=\"M18.56 5.44l.94 2.06.94-2.06 2.06-.94-2.06-.94-.94-2.06-.94 2.06-2.06.94zm-11 1L8.5 8.5l.94-2.06 2.06-.94-2.06-.94L8.5 2.5l-.94 2.06-2.06.94zm10 10l.94 2.06.94-2.06 2.06-.94-2.06-.94-.94-2.06-.94 2.06-2.06.94z\"/><path d=\"M17.41 7.96l-1.37-1.37c-.4-.4-.92-.59-1.43-.59-.52 0-1.04.2-1.43.59L10.3 9.45l-7.72 7.72c-.78.78-.78 2.05 0 2.83L4 21.41c.39.39.9.59 1.41.59.51 0 1.02-.2 1.41-.59l7.78-7.78 2.81-2.81c.8-.78.8-2.07 0-2.86zM5.41 20L4 18.59l7.72-7.72 1.47 1.35L5.41 20z\"/>\n",
              "  </svg>\n",
              "      </button>\n",
              "      \n",
              "  <style>\n",
              "    .colab-df-container {\n",
              "      display:flex;\n",
              "      flex-wrap:wrap;\n",
              "      gap: 12px;\n",
              "    }\n",
              "\n",
              "    .colab-df-convert {\n",
              "      background-color: #E8F0FE;\n",
              "      border: none;\n",
              "      border-radius: 50%;\n",
              "      cursor: pointer;\n",
              "      display: none;\n",
              "      fill: #1967D2;\n",
              "      height: 32px;\n",
              "      padding: 0 0 0 0;\n",
              "      width: 32px;\n",
              "    }\n",
              "\n",
              "    .colab-df-convert:hover {\n",
              "      background-color: #E2EBFA;\n",
              "      box-shadow: 0px 1px 2px rgba(60, 64, 67, 0.3), 0px 1px 3px 1px rgba(60, 64, 67, 0.15);\n",
              "      fill: #174EA6;\n",
              "    }\n",
              "\n",
              "    [theme=dark] .colab-df-convert {\n",
              "      background-color: #3B4455;\n",
              "      fill: #D2E3FC;\n",
              "    }\n",
              "\n",
              "    [theme=dark] .colab-df-convert:hover {\n",
              "      background-color: #434B5C;\n",
              "      box-shadow: 0px 1px 3px 1px rgba(0, 0, 0, 0.15);\n",
              "      filter: drop-shadow(0px 1px 2px rgba(0, 0, 0, 0.3));\n",
              "      fill: #FFFFFF;\n",
              "    }\n",
              "  </style>\n",
              "\n",
              "      <script>\n",
              "        const buttonEl =\n",
              "          document.querySelector('#df-7909e344-6bb9-47c6-9171-4b7d208e2c1d button.colab-df-convert');\n",
              "        buttonEl.style.display =\n",
              "          google.colab.kernel.accessAllowed ? 'block' : 'none';\n",
              "\n",
              "        async function convertToInteractive(key) {\n",
              "          const element = document.querySelector('#df-7909e344-6bb9-47c6-9171-4b7d208e2c1d');\n",
              "          const dataTable =\n",
              "            await google.colab.kernel.invokeFunction('convertToInteractive',\n",
              "                                                     [key], {});\n",
              "          if (!dataTable) return;\n",
              "\n",
              "          const docLinkHtml = 'Like what you see? Visit the ' +\n",
              "            '<a target=\"_blank\" href=https://colab.research.google.com/notebooks/data_table.ipynb>data table notebook</a>'\n",
              "            + ' to learn more about interactive tables.';\n",
              "          element.innerHTML = '';\n",
              "          dataTable['output_type'] = 'display_data';\n",
              "          await google.colab.output.renderOutput(dataTable, element);\n",
              "          const docLink = document.createElement('div');\n",
              "          docLink.innerHTML = docLinkHtml;\n",
              "          element.appendChild(docLink);\n",
              "        }\n",
              "      </script>\n",
              "    </div>\n",
              "  </div>\n",
              "  "
            ]
          },
          "metadata": {},
          "execution_count": 3
        }
      ]
    },
    {
      "cell_type": "code",
      "source": [
        "df.dtypes"
      ],
      "metadata": {
        "colab": {
          "base_uri": "https://localhost:8080/"
        },
        "id": "hobWUfgUveer",
        "outputId": "619aaa83-9a8b-406e-8577-665688866269"
      },
      "execution_count": 4,
      "outputs": [
        {
          "output_type": "execute_result",
          "data": {
            "text/plain": [
              "Timestamp       object\n",
              "name            object\n",
              "rollNo          object\n",
              "year             int64\n",
              "department      object\n",
              "section         object\n",
              "subjectCodes    object\n",
              "dtype: object"
            ]
          },
          "metadata": {},
          "execution_count": 4
        }
      ]
    },
    {
      "cell_type": "code",
      "source": [
        "#seggregating the subject codes of each student into an separate item\n",
        "codeList=df['subjectCodes'].unique().tolist()\n",
        "codeListSplit=[]\n",
        "for i in codeList:\n",
        "  j=i.split(',')\n",
        "  for a in j:\n",
        "    codeListSplit.append(a)"
      ],
      "metadata": {
        "id": "UCYYm22NuX20"
      },
      "execution_count": 5,
      "outputs": []
    },
    {
      "cell_type": "code",
      "source": [
        "#to find the unique different elements of an list - to find The different subject codes\n",
        "def uniqueElementsInList(list1):\n",
        "    unique_list = []\n",
        "    a=0\n",
        "    for x in list1:\n",
        "        if x not in unique_list:\n",
        "            unique_list.append(x)\n",
        "    return unique_list"
      ],
      "metadata": {
        "id": "0DuzxBPDz4Kb"
      },
      "execution_count": 6,
      "outputs": []
    },
    {
      "cell_type": "code",
      "source": [
        "print('The different subject codes are : ',uniqueElementsInList(codeListSplit))"
      ],
      "metadata": {
        "colab": {
          "base_uri": "https://localhost:8080/"
        },
        "id": "XJbpGAhU1wxW",
        "outputId": "24073e5c-4bfa-4385-ad26-0f55dba382ec"
      },
      "execution_count": 7,
      "outputs": [
        {
          "output_type": "stream",
          "name": "stdout",
          "text": [
            "The different subject codes are :  ['19ABCD123-english', ' 19EFG456-tamil', ' 19HIJ789-maths', ' 19KLM012-pce', '19HIJ789-maths', ' 19NOP345-pis', '19NOP345-pis', ' 19QRST678-engineering drawing', ' 19UVW901-uhv', '19QRST678-engineering drawing', ' 19XYZ234-cs', '19EFG456-tamil', '19KLM012-pce']\n"
          ]
        }
      ]
    },
    {
      "cell_type": "code",
      "source": [
        "#creating different dataframes for different year students\n",
        "uniqueYears=df['year'].unique()\n",
        "print(uniqueYears)"
      ],
      "metadata": {
        "colab": {
          "base_uri": "https://localhost:8080/"
        },
        "id": "2iFBKBpS446_",
        "outputId": "ab54740c-1a09-4fc7-ba51-4509e679277c"
      },
      "execution_count": 8,
      "outputs": [
        {
          "output_type": "stream",
          "name": "stdout",
          "text": [
            "[2 1 3 4]\n"
          ]
        }
      ]
    },
    {
      "cell_type": "code",
      "source": [
        "d_cse=pd.DataFrame(columns=df.columns.tolist())\n",
        "d_it=pd.DataFrame(columns=df.columns.tolist())\n",
        "d_eee=pd.DataFrame(columns=df.columns.tolist())\n",
        "d_ece=pd.DataFrame(columns=df.columns.tolist())\n",
        "d_mec=pd.DataFrame(columns=df.columns.tolist())\n",
        "d_civ=pd.DataFrame(columns=df.columns.tolist())\n",
        "d_auto=pd.DataFrame(columns=df.columns.tolist())\n",
        "d_ai=pd.DataFrame(columns=df.columns.tolist())\n",
        "\n",
        "\n",
        "df_1=pd.DataFrame(columns=df.columns.tolist())\n",
        "df_2=pd.DataFrame(columns=df.columns.tolist())\n",
        "df_3=pd.DataFrame(columns=df.columns.tolist())\n",
        "df_4=pd.DataFrame(columns=df.columns.tolist())"
      ],
      "metadata": {
        "id": "mEcvEIQUiYFU"
      },
      "execution_count": 9,
      "outputs": []
    },
    {
      "cell_type": "code",
      "source": [
        "#separating the students department wise\n",
        "for index, row in df.iterrows():\n",
        "  #print(row)\n",
        "  if df.loc[index,'department']=='CSE':\n",
        "    data=df.iloc[index].values.tolist()\n",
        "    df_data=pd.DataFrame([data],columns = df.columns.tolist())\n",
        "    d_cse=d_cse.append(df_data,ignore_index = True)\n",
        "    d_cse.to_csv(r'd_cse.csv', index = False)\n",
        "\n",
        "  if df.loc[index,'department']=='IT':\n",
        "    data=df.iloc[index].values.tolist()\n",
        "    df_data=pd.DataFrame([data],columns = df.columns.tolist())\n",
        "    d_it=d_it.append(df_data,ignore_index = True)\n",
        "    d_it.to_csv(r'd_it.csv', index = False)\n",
        "\n",
        "  if df.loc[index,'department']=='EEE':\n",
        "    data=df.iloc[index].values.tolist()\n",
        "    df_data=pd.DataFrame([data],columns = df.columns.tolist())\n",
        "    d_eee=d_eee.append(df_data,ignore_index = True)\n",
        "    d_eee.to_csv(r'd_eee.csv', index = False)\n",
        "\n",
        "  if df.loc[index,'department']=='ECE':\n",
        "    data=df.iloc[index].values.tolist()\n",
        "    df_data=pd.DataFrame([data],columns = df.columns.tolist())\n",
        "    d_ece=d_ece.append(df_data,ignore_index = True)\n",
        "    d_ece.to_csv(r'd_ece.csv', index = False)\n",
        "\n",
        "  if df.loc[index,'department']=='MECH':\n",
        "    data=df.iloc[index].values.tolist()\n",
        "    df_data=pd.DataFrame([data],columns = df.columns.tolist())\n",
        "    d_mec=d_mec.append(df_data,ignore_index = True)\n",
        "    d_mec.to_csv(r'd_mec.csv', index = False)\n",
        "\n",
        "  if df.loc[index,'department']=='CIVIL':\n",
        "    data=df.iloc[index].values.tolist()\n",
        "    df_data=pd.DataFrame([data],columns = df.columns.tolist())\n",
        "    d_civ=d_civ.append(df_data,ignore_index = True)\n",
        "    d_civ.to_csv(r'd_civ.csv', index = False)\n",
        "\n",
        "  if df.loc[index,'department']=='AUTO':\n",
        "    data=df.iloc[index].values.tolist()\n",
        "    df_data=pd.DataFrame([data],columns = df.columns.tolist())\n",
        "    d_auto=d_auto.append(df_data,ignore_index = True)\n",
        "    d_auto.to_csv(r'd_auto.csv', index = False)\n",
        "\n",
        "  if df.loc[index,'department']=='AI & DS':\n",
        "    data=df.iloc[index].values.tolist()\n",
        "    df_data=pd.DataFrame([data],columns = df.columns.tolist())\n",
        "    d_ai=d_ai.append(df_data,ignore_index = True)\n",
        "    d_ai.to_csv(r'd_ai.csv', index = False)\n",
        "\n",
        "  df_data.drop(0,inplace=True,axis=0)"
      ],
      "metadata": {
        "id": "NgP7lEqW-zQF"
      },
      "execution_count": 10,
      "outputs": []
    },
    {
      "cell_type": "code",
      "source": [
        "#trying cell\n",
        "d_cse=pd.DataFrame(columns=df.columns.tolist())\n",
        "d_it=pd.DataFrame(columns=df.columns.tolist())\n",
        "d_eee=pd.DataFrame(columns=df.columns.tolist())\n",
        "d_ece=pd.DataFrame(columns=df.columns.tolist())\n",
        "d_mec=pd.DataFrame(columns=df.columns.tolist())\n",
        "d_civ=pd.DataFrame(columns=df.columns.tolist())\n",
        "d_auto=pd.DataFrame(columns=df.columns.tolist())\n",
        "d_ai=pd.DataFrame(columns=df.columns.tolist())\n",
        " \n",
        "df_1=pd.DataFrame(columns=df.columns.tolist())\n",
        "df_2=pd.DataFrame(columns=df.columns.tolist())\n",
        "df_3=pd.DataFrame(columns=df.columns.tolist())\n",
        "df_4=pd.DataFrame(columns=df.columns.tolist())\n",
        " \n",
        "#######################################################################\n",
        "def deptYear(df):\n",
        " for index, row in df.iterrows():\n",
        "   #print(row)\n",
        "   if df.loc[index,'year']=='1':\n",
        "     data=df.iloc[index].values.tolist()\n",
        "     df_data=pd.DataFrame([data],columns = df.columns.tolist())\n",
        "     df_1=df_1.append(df_data,ignore_index = True)\n",
        "     print(df_1)\n",
        " name='d_1_'+ df.loc[index,'department']\n",
        " fname='name'+'.csv'\n",
        " #df_1.to_csv(fname, index = False)\n",
        " df_data.drop(0,inplace=True,axis=0)\n",
        "  \n",
        " for index, row in df.iterrows():\n",
        "   if df.loc[index,'year']=='2':\n",
        "     data=df.iloc[index].values.tolist()\n",
        "     df_data=pd.DataFrame([data],columns = df.columns.tolist())\n",
        "     df_2=df_2.append(df_data,ignore_index = True)\n",
        " name='d_2_'+df.loc[index,'department']\n",
        " fname='name'+'.csv'\n",
        " df_2.to_csv(fname, index = False)\n",
        " df_data.drop(0,inplace=True,axis=0)\n",
        " \n",
        " for index, row in df.iterrows():\n",
        "   if df.loc[index,'year']=='3':\n",
        "     data=df.iloc[index].values.tolist()\n",
        "     df_data=pd.DataFrame([data],columns = df.columns.tolist())\n",
        "     df_3=df_3.append(df_data,ignore_index = True)\n",
        " name='d_3_'+df.loc[index,'department']\n",
        " fname='name'+'.csv'\n",
        " df_3.to_csv(fname, index = False)\n",
        " df_data.drop(0,inplace=True,axis=0)\n",
        " \n",
        " for index, row in df.iterrows():\n",
        "   if df.loc[index,'year']=='4':\n",
        "     data=df.iloc[index].values.tolist()\n",
        "     df_data=pd.DataFrame([data],columns = df.columns.tolist())\n",
        "     df_4=df_4.append(df_data,ignore_index = True)\n",
        " name='d_4_'+df.loc[index,'department']\n",
        " fname='name'+'.csv'\n",
        " df_4.to_csv(fname, index = False)\n",
        " df_data.drop(0,inplace=True,axis=0)\n",
        " \n",
        "#######################################################################\n",
        " \n",
        "#separating the students department wise\n",
        "for index, row in df.iterrows():\n",
        " #print(row)\n",
        " if df.loc[index,'department']=='CSE':\n",
        "   data=df.iloc[index].values.tolist()\n",
        "   df_data=pd.DataFrame([data],columns = df.columns.tolist())\n",
        "   d_cse=d_cse.append(df_data,ignore_index = True)\n",
        "   #d_cse.to_csv(r'd_cse.csv', index = False)\n",
        "   deptYear(d_cse)\n",
        " \n",
        " if df.loc[index,'department']=='IT':\n",
        "   data=df.iloc[index].values.tolist()\n",
        "   df_data=pd.DataFrame([data],columns = df.columns.tolist())\n",
        "   d_it=d_it.append(df_data,ignore_index = True)\n",
        "   #d_it.to_csv(r'd_it.csv', index = False)\n",
        "   deptYear(d_it)\n",
        " \n",
        " if df.loc[index,'department']=='EEE':\n",
        "   data=df.iloc[index].values.tolist()\n",
        "   df_data=pd.DataFrame([data],columns = df.columns.tolist())\n",
        "   d_eee=d_eee.append(df_data,ignore_index = True)\n",
        "   #d_eee.to_csv(r'd_eee.csv', index = False)\n",
        "   deptYear(d_eee)\n",
        " \n",
        " \n",
        " if df.loc[index,'department']=='ECE':\n",
        "   data=df.iloc[index].values.tolist()\n",
        "   df_data=pd.DataFrame([data],columns = df.columns.tolist())\n",
        "   d_ece=d_ece.append(df_data,ignore_index = True)\n",
        "   #d_ece.to_csv(r'd_ece.csv', index = False)\n",
        "   deptYear(d_ece)\n",
        " \n",
        " if df.loc[index,'department']=='MECH':\n",
        "   data=df.iloc[index].values.tolist()\n",
        "   df_data=pd.DataFrame([data],columns = df.columns.tolist())\n",
        "   d_mec=d_mec.append(df_data,ignore_index = True)\n",
        "   #d_mec.to_csv(r'd_mec.csv', index = False)\n",
        "   deptYear(d_mec)\n",
        " \n",
        " if df.loc[index,'department']=='CIVIL':\n",
        "   data=df.iloc[index].values.tolist()\n",
        "   df_data=pd.DataFrame([data],columns = df.columns.tolist())\n",
        "   d_civ=d_civ.append(df_data,ignore_index = True)\n",
        "   #d_civ.to_csv(r'd_civ.csv', index = False)\n",
        "   deptYear(d_civ)\n",
        " \n",
        " if df.loc[index,'department']=='AUTO':\n",
        "   data=df.iloc[index].values.tolist()\n",
        "   df_data=pd.DataFrame([data],columns = df.columns.tolist())\n",
        "   d_auto=d_auto.append(df_data,ignore_index = True)\n",
        "   #d_auto.to_csv(r'd_auto.csv', index = False)\n",
        "   deptYear(d_auto)\n",
        " \n",
        " if df.loc[index,'department']=='AI & DS':\n",
        "   data=df.iloc[index].values.tolist()\n",
        "   df_data=pd.DataFrame([data],columns = df.columns.tolist())\n",
        "   d_ai=d_ai.append(df_data,ignore_index = True)\n",
        "   #d_ai.to_csv(r'd_ai.csv', index = False)\n",
        "   deptYear(d_ai)\n",
        "\n"
      ],
      "metadata": {
        "id": "yWuzfm9IAcuv",
        "colab": {
          "base_uri": "https://localhost:8080/",
          "height": 365
        },
        "outputId": "80d34a62-4559-44b8-dc7d-e767dcb419d6"
      },
      "execution_count": 25,
      "outputs": [
        {
          "output_type": "error",
          "ename": "UnboundLocalError",
          "evalue": "ignored",
          "traceback": [
            "\u001b[0;31m---------------------------------------------------------------------------\u001b[0m",
            "\u001b[0;31mUnboundLocalError\u001b[0m                         Traceback (most recent call last)",
            "\u001b[0;32m<ipython-input-25-6d0e7a2e6f22>\u001b[0m in \u001b[0;36m<module>\u001b[0;34m()\u001b[0m\n\u001b[1;32m     68\u001b[0m    \u001b[0md_cse\u001b[0m\u001b[0;34m=\u001b[0m\u001b[0md_cse\u001b[0m\u001b[0;34m.\u001b[0m\u001b[0mappend\u001b[0m\u001b[0;34m(\u001b[0m\u001b[0mdf_data\u001b[0m\u001b[0;34m,\u001b[0m\u001b[0mignore_index\u001b[0m \u001b[0;34m=\u001b[0m \u001b[0;32mTrue\u001b[0m\u001b[0;34m)\u001b[0m\u001b[0;34m\u001b[0m\u001b[0;34m\u001b[0m\u001b[0m\n\u001b[1;32m     69\u001b[0m    \u001b[0;31m#d_cse.to_csv(r'd_cse.csv', index = False)\u001b[0m\u001b[0;34m\u001b[0m\u001b[0;34m\u001b[0m\u001b[0;34m\u001b[0m\u001b[0m\n\u001b[0;32m---> 70\u001b[0;31m    \u001b[0mdeptYear\u001b[0m\u001b[0;34m(\u001b[0m\u001b[0md_cse\u001b[0m\u001b[0;34m)\u001b[0m\u001b[0;34m\u001b[0m\u001b[0;34m\u001b[0m\u001b[0m\n\u001b[0m\u001b[1;32m     71\u001b[0m \u001b[0;34m\u001b[0m\u001b[0m\n\u001b[1;32m     72\u001b[0m  \u001b[0;32mif\u001b[0m \u001b[0mdf\u001b[0m\u001b[0;34m.\u001b[0m\u001b[0mloc\u001b[0m\u001b[0;34m[\u001b[0m\u001b[0mindex\u001b[0m\u001b[0;34m,\u001b[0m\u001b[0;34m'department'\u001b[0m\u001b[0;34m]\u001b[0m\u001b[0;34m==\u001b[0m\u001b[0;34m'IT'\u001b[0m\u001b[0;34m:\u001b[0m\u001b[0;34m\u001b[0m\u001b[0;34m\u001b[0m\u001b[0m\n",
            "\u001b[0;32m<ipython-input-25-6d0e7a2e6f22>\u001b[0m in \u001b[0;36mdeptYear\u001b[0;34m(df)\u001b[0m\n\u001b[1;32m     26\u001b[0m  \u001b[0mfname\u001b[0m\u001b[0;34m=\u001b[0m\u001b[0;34m'name'\u001b[0m\u001b[0;34m+\u001b[0m\u001b[0;34m'.csv'\u001b[0m\u001b[0;34m\u001b[0m\u001b[0;34m\u001b[0m\u001b[0m\n\u001b[1;32m     27\u001b[0m  \u001b[0;31m#df_1.to_csv(fname, index = False)\u001b[0m\u001b[0;34m\u001b[0m\u001b[0;34m\u001b[0m\u001b[0;34m\u001b[0m\u001b[0m\n\u001b[0;32m---> 28\u001b[0;31m  \u001b[0mdf_data\u001b[0m\u001b[0;34m.\u001b[0m\u001b[0mdrop\u001b[0m\u001b[0;34m(\u001b[0m\u001b[0;36m0\u001b[0m\u001b[0;34m,\u001b[0m\u001b[0minplace\u001b[0m\u001b[0;34m=\u001b[0m\u001b[0;32mTrue\u001b[0m\u001b[0;34m,\u001b[0m\u001b[0maxis\u001b[0m\u001b[0;34m=\u001b[0m\u001b[0;36m0\u001b[0m\u001b[0;34m)\u001b[0m\u001b[0;34m\u001b[0m\u001b[0;34m\u001b[0m\u001b[0m\n\u001b[0m\u001b[1;32m     29\u001b[0m \u001b[0;34m\u001b[0m\u001b[0m\n\u001b[1;32m     30\u001b[0m  \u001b[0;32mfor\u001b[0m \u001b[0mindex\u001b[0m\u001b[0;34m,\u001b[0m \u001b[0mrow\u001b[0m \u001b[0;32min\u001b[0m \u001b[0mdf\u001b[0m\u001b[0;34m.\u001b[0m\u001b[0miterrows\u001b[0m\u001b[0;34m(\u001b[0m\u001b[0;34m)\u001b[0m\u001b[0;34m:\u001b[0m\u001b[0;34m\u001b[0m\u001b[0;34m\u001b[0m\u001b[0m\n",
            "\u001b[0;31mUnboundLocalError\u001b[0m: local variable 'df_data' referenced before assignment"
          ]
        }
      ]
    },
    {
      "cell_type": "code",
      "source": [
        "#creating separate dataframes for all the years\n",
        "for index, row in df.iterrows():\n",
        "  #print(row)\n",
        "  if df.loc[index,'year']=='1':\n",
        "    data=df.iloc[index].values.tolist()\n",
        "    df_data=pd.DataFrame([data],columns = df.columns.tolist())\n",
        "    df_1=df_1.append(df_data,ignore_index = True)\n",
        "  if df.loc[index,'year']=='2':\n",
        "    data=df.iloc[index].values.tolist()\n",
        "    df_data=pd.DataFrame([data],columns = df.columns.tolist())\n",
        "    df_2=df_2.append(df_data,ignore_index = True)\n",
        "  if df.loc[index,'year']=='3':\n",
        "    data=df.iloc[index].values.tolist()\n",
        "    df_data=pd.DataFrame([data],columns = df.columns.tolist())\n",
        "    df_3=df_3.append(df_data,ignore_index = True)\n",
        "  if df.loc[index,'year']=='4':\n",
        "    data=df.iloc[index].values.tolist()\n",
        "    df_data=pd.DataFrame([data],columns = df.columns.tolist())\n",
        "    df_4=df_4.append(df_data,ignore_index = True)\n",
        "  #df_data.drop(0,inplace=True,axis=0)"
      ],
      "metadata": {
        "id": "J4ci4Jde4PCZ"
      },
      "execution_count": 12,
      "outputs": []
    },
    {
      "cell_type": "markdown",
      "source": [
        "# Admin\n"
      ],
      "metadata": {
        "id": "a0JaQoDvnOQ-"
      }
    },
    {
      "cell_type": "code",
      "source": [
        "ncse=d_cse.shape[0]\n",
        "nit=d_it.shape[0]\n",
        "nece=d_ece.shape[0]\n",
        "neee=d_eee.shape[0]\n",
        "nauto=d_auto.shape[0]\n",
        "nmech=d_mec.shape[0]\n",
        "nai=d_ai.shape[0]\n",
        "nciv=d_civ.shape[0]"
      ],
      "metadata": {
        "id": "i9A-oNPausLa"
      },
      "execution_count": 13,
      "outputs": []
    },
    {
      "cell_type": "code",
      "source": [
        "ndept=int(input(\"Enter no.of.depts writing exam : \"))"
      ],
      "metadata": {
        "colab": {
          "base_uri": "https://localhost:8080/"
        },
        "id": "xu93UkGCruXy",
        "outputId": "846a55e0-6eb8-44df-e4a1-9cdfa6cd0b65"
      },
      "execution_count": 14,
      "outputs": [
        {
          "name": "stdout",
          "output_type": "stream",
          "text": [
            "Enter no.of.depts writing exam : 3\n"
          ]
        }
      ]
    },
    {
      "cell_type": "code",
      "source": [
        "nhall=int(input(\"No.of.halls allocated for exam : \"))"
      ],
      "metadata": {
        "colab": {
          "base_uri": "https://localhost:8080/"
        },
        "id": "EWMG1QRYLrPz",
        "outputId": "2a8e8cd8-a5a9-4cf3-f26e-e28d7adcdb4d"
      },
      "execution_count": 15,
      "outputs": [
        {
          "name": "stdout",
          "output_type": "stream",
          "text": [
            "No.of.halls allocated for exam : 2\n"
          ]
        }
      ]
    },
    {
      "cell_type": "code",
      "source": [
        "nseat=nhall*36\n",
        "print('No.of.seats available for the exam : ',nseat)"
      ],
      "metadata": {
        "colab": {
          "base_uri": "https://localhost:8080/"
        },
        "id": "pD7DWas-L12u",
        "outputId": "ff956651-1a70-4b53-c3f7-0ae192a1b646"
      },
      "execution_count": 16,
      "outputs": [
        {
          "output_type": "stream",
          "name": "stdout",
          "text": [
            "No.of.seats available for the exam :  72\n"
          ]
        }
      ]
    },
    {
      "cell_type": "code",
      "source": [
        "print('Select the departments that are writing exam (type the dept number one by one) \\n1.CSE\\n2.IT\\n3.ECE\\n4.EEE\\n5.AI&DS\\n6.AUTO\\n7.CIVIL\\n8.MECH :\\n')\n",
        "x=0\n",
        "for i in range(1,ndept+1):\n",
        "  dept=int(input())\n",
        "  if dept==1:\n",
        "    x+=ncse\n",
        "  if dept==2:\n",
        "    x+=nit\n",
        "  if dept==3:\n",
        "    x+=nece\n",
        "  if dept==4:\n",
        "    x+=neee\n",
        "  if dept==5:\n",
        "    x+=nai\n",
        "  if dept==6:\n",
        "    x+=nauto\n",
        "  if dept==7:\n",
        "    x+=nciv\n",
        "  if dept==8:\n",
        "    x+=nmech\n",
        "print('No.of.students writing exam are : ',x)"
      ],
      "metadata": {
        "colab": {
          "base_uri": "https://localhost:8080/"
        },
        "id": "84JF1xu3tDy-",
        "outputId": "6f8cae85-d670-4e45-e117-815e454e2793"
      },
      "execution_count": 17,
      "outputs": [
        {
          "output_type": "stream",
          "name": "stdout",
          "text": [
            "Select the departments that are writing exam (type the dept number one by one) \n",
            "1.CSE\n",
            "2.IT\n",
            "3.ECE\n",
            "4.EEE\n",
            "5.AI&DS\n",
            "6.AUTO\n",
            "7.CIVIL\n",
            "8.MECH :\n",
            "\n",
            "1\n",
            "2\n",
            "3\n",
            "No.of.students writing exam are :  41\n"
          ]
        }
      ]
    },
    {
      "cell_type": "code",
      "source": [
        "if x>nseat : \n",
        "  print('No.of.seats available is lesser than no.of.students writing exam')"
      ],
      "metadata": {
        "id": "7_5B6Hs0MMEU"
      },
      "execution_count": 18,
      "outputs": []
    },
    {
      "cell_type": "code",
      "source": [
        "df_ai=pd.read_csv('/content/d_ai.csv')\n",
        "df_auto=pd.read_csv('/content/d_auto.csv')\n",
        "df_civ=pd.read_csv('/content/d_civ.csv')\n",
        "df_cse=pd.read_csv('/content/d_cse.csv')\n",
        "df_ece=pd.read_csv('/content/d_ece.csv')\n",
        "df_eee=pd.read_csv('/content/d_eee.csv')\n",
        "df_it=pd.read_csv('/content/d_it.csv')\n",
        "df_mec=pd.read_csv('/content/d_mec.csv')\n",
        "\n",
        "\n",
        "l_ai=df_ai['rollNo'].tolist()\n",
        "l_auto=df_auto['rollNo'].tolist()\n",
        "l_civ=df_civ['rollNo'].tolist()\n",
        "l_cse=df_cse['rollNo'].tolist()\n",
        "l_ece=df_ece['rollNo'].tolist()\n",
        "l_eee=df_eee['rollNo'].tolist()\n",
        "l_it=df_it['rollNo'].tolist()\n",
        "l_mec=df_mec['rollNo'].tolist()\n",
        "l=df['rollNo'].tolist()"
      ],
      "metadata": {
        "id": "67J5AzW47lkE"
      },
      "execution_count": 19,
      "outputs": []
    },
    {
      "cell_type": "code",
      "source": [
        "#bench arrangement - assume there are 18 bench - 36 per hall\n",
        "def allocate(l):\n",
        "  i=1\n",
        "  xyz=36\n",
        "  for x in range(1,nhall+1):\n",
        "    print('Hall : ',x)\n",
        "    while(True):\n",
        "      if i<len(l)-1:\n",
        "        if i%6==0:\n",
        "          print(i,'-',l[i+1],'      ')\n",
        "          print('\\n')\n",
        "        else:\n",
        "          print(i,'-',l[i+1],'      ',end='')\n",
        "        if i==xyz:\n",
        "          xyz+=xyz\n",
        "          break\n",
        "      else:\n",
        "        break\n",
        "      i+=1\n",
        "    print('-----------------------------')\n",
        "\n",
        "allocate(l)"
      ],
      "metadata": {
        "id": "aeFuAP96-PMl"
      },
      "execution_count": 21,
      "outputs": []
    },
    {
      "cell_type": "code",
      "source": [
        ""
      ],
      "metadata": {
        "id": "V45BFaco2k6a"
      },
      "execution_count": null,
      "outputs": []
    }
  ]
}